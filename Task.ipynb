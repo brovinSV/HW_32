{
 "cells": [
  {
   "cell_type": "code",
   "execution_count": null,
   "id": "77e6361b",
   "metadata": {},
   "outputs": [],
   "source": [
    "\"\"\"\n",
    "1. Створіть датафрейм розміром 15*5, що містить наступні дані:\n",
    "а) ім'я та призвище студента;\n",
    "б) середній бал;\n",
    "в) оцінка за поточний екзамен;\n",
    "г) кількість спроб здачі поточного екзамену.\n",
    "\"\"\""
   ]
  },
  {
   "cell_type": "code",
   "execution_count": 1,
   "id": "5ef6e196",
   "metadata": {},
   "outputs": [],
   "source": [
    "import pandas as pd\n",
    "import numpy as np"
   ]
  },
  {
   "cell_type": "code",
   "execution_count": 2,
   "id": "2775c873",
   "metadata": {},
   "outputs": [],
   "source": [
    "# Створення імен та прізвищ\n",
    "names = ['Иван', 'Петр', 'Мария', 'Анна', 'Сергей', 'Елена', 'Алексей', 'Денис', 'Николай', 'Ксения', 'Дарья', 'Андрей', 'Кирилл', 'Татьяна', 'Ольга']\n",
    "last_names = ['Иванов', 'Петров', 'Сидорова', 'Смирнова', 'Кузнецов', 'Соколова', 'Никитин', 'Ильин', 'Попов', 'Морозова', 'Соловьева', 'Васильев', 'Макаров', 'Захарова', 'Ковалева']"
   ]
  },
  {
   "cell_type": "code",
   "execution_count": 3,
   "id": "8e9819b4",
   "metadata": {},
   "outputs": [],
   "source": [
    "# Створення середніх балів випадковим чином\n",
    "mean_grades = np.random.uniform(low=3.0, high=5.0, size=15).round(2)"
   ]
  },
  {
   "cell_type": "code",
   "execution_count": 4,
   "id": "5bfbd9dc",
   "metadata": {},
   "outputs": [],
   "source": [
    "# Створення оцінок за поточний іспит випадковим чином\n",
    "exam_grades = np.random.randint(2, 6, size=15)"
   ]
  },
  {
   "cell_type": "code",
   "execution_count": 5,
   "id": "12626746",
   "metadata": {},
   "outputs": [],
   "source": [
    "# Створення кількості спроб складання поточного іспиту випадковим чином\n",
    "exam_attempts = np.random.randint(1, 4, size=15)"
   ]
  },
  {
   "cell_type": "code",
   "execution_count": 8,
   "id": "29386783",
   "metadata": {},
   "outputs": [],
   "source": [
    "# Створення датафрейму\n",
    "df = pd.DataFrame({\"Ім'я\": names,\n",
    "                   'Призвище': last_names,\n",
    "                   'Середній бал': mean_grades,\n",
    "                   'Оцінка за поточний екзамен': exam_grades,\n",
    "                   'Кількість спроб здачі поточного екзамену': exam_attempts})"
   ]
  },
  {
   "cell_type": "code",
   "execution_count": 9,
   "id": "282fa507",
   "metadata": {},
   "outputs": [
    {
     "name": "stdout",
     "output_type": "stream",
     "text": [
      "       Ім'я   Призвище  Середній бал  Оцінка за поточний екзамен  \\\n",
      "0      Иван     Иванов          3.88                           4   \n",
      "1      Петр     Петров          4.98                           3   \n",
      "2     Мария   Сидорова          3.19                           3   \n",
      "3      Анна   Смирнова          4.44                           5   \n",
      "4    Сергей   Кузнецов          4.56                           3   \n",
      "5     Елена   Соколова          4.65                           3   \n",
      "6   Алексей    Никитин          4.00                           2   \n",
      "7     Денис      Ильин          3.04                           4   \n",
      "8   Николай      Попов          4.22                           3   \n",
      "9    Ксения   Морозова          3.03                           4   \n",
      "10    Дарья  Соловьева          4.94                           5   \n",
      "11   Андрей   Васильев          3.18                           4   \n",
      "12   Кирилл    Макаров          3.88                           2   \n",
      "13  Татьяна   Захарова          3.71                           3   \n",
      "14    Ольга   Ковалева          3.24                           5   \n",
      "\n",
      "    Кількість спроб здачі поточного екзамену  \n",
      "0                                          3  \n",
      "1                                          3  \n",
      "2                                          1  \n",
      "3                                          1  \n",
      "4                                          3  \n",
      "5                                          2  \n",
      "6                                          2  \n",
      "7                                          3  \n",
      "8                                          3  \n",
      "9                                          2  \n",
      "10                                         2  \n",
      "11                                         1  \n",
      "12                                         2  \n",
      "13                                         3  \n",
      "14                                         3  \n"
     ]
    }
   ],
   "source": [
    "print(df)"
   ]
  },
  {
   "cell_type": "code",
   "execution_count": null,
   "id": "285aaf20",
   "metadata": {},
   "outputs": [],
   "source": [
    "\"\"\"\n",
    "2. Додайте до датафрейму стовпчик, що містить дані про допуск студента на наступний курс.\n",
    "\"\"\""
   ]
  },
  {
   "cell_type": "code",
   "execution_count": 10,
   "id": "6d4e2888",
   "metadata": {},
   "outputs": [],
   "source": [
    "# Створення даних про допуск на наступний курс\n",
    "next_course = np.random.choice([True, False], size=15)"
   ]
  },
  {
   "cell_type": "code",
   "execution_count": 11,
   "id": "7bdbed78",
   "metadata": {},
   "outputs": [],
   "source": [
    "# Додавання стовпця \"Допуск на наступний курс\"\n",
    "df = df.assign(Допуск_на_наступний_курс=next_course)"
   ]
  },
  {
   "cell_type": "code",
   "execution_count": 12,
   "id": "363c209d",
   "metadata": {},
   "outputs": [
    {
     "name": "stdout",
     "output_type": "stream",
     "text": [
      "       Ім'я   Призвище  Середній бал  Оцінка за поточний екзамен  \\\n",
      "0      Иван     Иванов          3.88                           4   \n",
      "1      Петр     Петров          4.98                           3   \n",
      "2     Мария   Сидорова          3.19                           3   \n",
      "3      Анна   Смирнова          4.44                           5   \n",
      "4    Сергей   Кузнецов          4.56                           3   \n",
      "5     Елена   Соколова          4.65                           3   \n",
      "6   Алексей    Никитин          4.00                           2   \n",
      "7     Денис      Ильин          3.04                           4   \n",
      "8   Николай      Попов          4.22                           3   \n",
      "9    Ксения   Морозова          3.03                           4   \n",
      "10    Дарья  Соловьева          4.94                           5   \n",
      "11   Андрей   Васильев          3.18                           4   \n",
      "12   Кирилл    Макаров          3.88                           2   \n",
      "13  Татьяна   Захарова          3.71                           3   \n",
      "14    Ольга   Ковалева          3.24                           5   \n",
      "\n",
      "    Кількість спроб здачі поточного екзамену  Допуск_на_наступний_курс  \n",
      "0                                          3                     False  \n",
      "1                                          3                      True  \n",
      "2                                          1                      True  \n",
      "3                                          1                      True  \n",
      "4                                          3                      True  \n",
      "5                                          2                      True  \n",
      "6                                          2                     False  \n",
      "7                                          3                     False  \n",
      "8                                          3                     False  \n",
      "9                                          2                      True  \n",
      "10                                         2                      True  \n",
      "11                                         1                      True  \n",
      "12                                         2                     False  \n",
      "13                                         3                      True  \n",
      "14                                         3                     False  \n"
     ]
    }
   ],
   "source": [
    "print(df)"
   ]
  },
  {
   "cell_type": "code",
   "execution_count": null,
   "id": "01ff162b",
   "metadata": {},
   "outputs": [],
   "source": [
    "\"\"\"\n",
    "3. Виведіть мінімальний, максимальний, середній та медіанний показник середнього балу студентів.\n",
    "\"\"\""
   ]
  },
  {
   "cell_type": "code",
   "execution_count": 13,
   "id": "9f6ceaf0",
   "metadata": {},
   "outputs": [
    {
     "name": "stdout",
     "output_type": "stream",
     "text": [
      "Мінімальний показник среднього балу: 3.03\n"
     ]
    }
   ],
   "source": [
    "# обчислюємо мінімальне значення середнього балу\n",
    "min_mean = df['Середній бал'].min()\n",
    "print('Мінімальний показник среднього балу:', min_mean)"
   ]
  },
  {
   "cell_type": "code",
   "execution_count": 14,
   "id": "b9c9e450",
   "metadata": {},
   "outputs": [
    {
     "name": "stdout",
     "output_type": "stream",
     "text": [
      "Максимальний показник среднього балу: 4.98\n"
     ]
    }
   ],
   "source": [
    "# обчислюємо максимальне значення середнього балу\n",
    "max_mean = df['Середній бал'].max()\n",
    "print('Максимальний показник среднього балу:', max_mean)"
   ]
  },
  {
   "cell_type": "code",
   "execution_count": 15,
   "id": "58ef9c11",
   "metadata": {},
   "outputs": [
    {
     "name": "stdout",
     "output_type": "stream",
     "text": [
      "Середній показник середнього балу: 3.929333333333333\n"
     ]
    }
   ],
   "source": [
    "# обчислюємо середнє значення середнього балу\n",
    "mean_mean = df['Середній бал'].mean()\n",
    "print('Середній показник середнього балу:', mean_mean)"
   ]
  },
  {
   "cell_type": "code",
   "execution_count": 16,
   "id": "1167e985",
   "metadata": {},
   "outputs": [
    {
     "name": "stdout",
     "output_type": "stream",
     "text": [
      "Медіанний показник середнього балу: 3.88\n"
     ]
    }
   ],
   "source": [
    "# обчислюємо медіанне значення середнього балу\n",
    "median_mean = df['Середній бал'].median()\n",
    "print('Медіанний показник середнього балу:', median_mean)"
   ]
  },
  {
   "cell_type": "code",
   "execution_count": null,
   "id": "ce63e52e",
   "metadata": {},
   "outputs": [],
   "source": [
    "\"\"\"\n",
    "4. Виведіть кількість студентів, що здали поточний екзамен з першого разу.\n",
    "\"\"\""
   ]
  },
  {
   "cell_type": "code",
   "execution_count": 18,
   "id": "9866774f",
   "metadata": {},
   "outputs": [],
   "source": [
    "# фільтруємо датафрейм і вибираємо тільки ті терміни, де кількість спроб дорівнює 1\n",
    "passed_first_attempt = df[df['Кількість спроб здачі поточного екзамену'] == 1]"
   ]
  },
  {
   "cell_type": "code",
   "execution_count": 19,
   "id": "0b36e101",
   "metadata": {},
   "outputs": [
    {
     "name": "stdout",
     "output_type": "stream",
     "text": [
      "Кількість студентів, які склали поточний іспит з першого разу: 3\n"
     ]
    }
   ],
   "source": [
    "print('Кількість студентів, які склали поточний іспит з першого разу:', len(passed_first_attempt))"
   ]
  },
  {
   "cell_type": "code",
   "execution_count": null,
   "id": "aea5d487",
   "metadata": {},
   "outputs": [],
   "source": [
    "\"\"\"\n",
    "5. Збережіть будь-які дані з датафрейму у вигляді серії.\n",
    "\"\"\""
   ]
  },
  {
   "cell_type": "code",
   "execution_count": 27,
   "id": "2f329509",
   "metadata": {},
   "outputs": [],
   "source": [
    "# вибираємо стовпець \"Середній бал\" і перетворимо його на серію\n",
    "avg_score_series = df['Середній бал']"
   ]
  },
  {
   "cell_type": "code",
   "execution_count": 24,
   "id": "9d27ed70",
   "metadata": {},
   "outputs": [
    {
     "name": "stdout",
     "output_type": "stream",
     "text": [
      "0     3.88\n",
      "1     4.98\n",
      "2     3.19\n",
      "3     4.44\n",
      "4     4.56\n",
      "5     4.65\n",
      "6     4.00\n",
      "7     3.04\n",
      "8     4.22\n",
      "9     3.03\n",
      "10    4.94\n",
      "11    3.18\n",
      "12    3.88\n",
      "13    3.71\n",
      "14    3.24\n",
      "Name: Середній бал, dtype: float64\n"
     ]
    }
   ],
   "source": [
    "print(avg_score_series)"
   ]
  },
  {
   "cell_type": "code",
   "execution_count": 25,
   "id": "09c29816",
   "metadata": {},
   "outputs": [],
   "source": [
    "# зберігаємо серію у файл \"avg_score.csv\"\n",
    "avg_score_series.to_csv('avg_score.csv', index=False)"
   ]
  },
  {
   "cell_type": "code",
   "execution_count": null,
   "id": "00b23b5b",
   "metadata": {},
   "outputs": [],
   "source": []
  }
 ],
 "metadata": {
  "kernelspec": {
   "display_name": "Python 3",
   "language": "python",
   "name": "python3"
  },
  "language_info": {
   "codemirror_mode": {
    "name": "ipython",
    "version": 3
   },
   "file_extension": ".py",
   "mimetype": "text/x-python",
   "name": "python",
   "nbconvert_exporter": "python",
   "pygments_lexer": "ipython3",
   "version": "3.8.10"
  }
 },
 "nbformat": 4,
 "nbformat_minor": 5
}
